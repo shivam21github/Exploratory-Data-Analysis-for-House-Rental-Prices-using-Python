{
 "cells": [
  {
   "cell_type": "markdown",
   "id": "40cd9093",
   "metadata": {},
   "source": [
    "# Objective of this project:"
   ]
  },
  {
   "cell_type": "markdown",
   "id": "6b5da6ae",
   "metadata": {},
   "source": [
    "To assess the renting scenario for the major cities in India (conduct exploratory data analysis for the same) and identify interesting patterns and observations from the analysis. Simple and fun.\n",
    "\n",
    "\n",
    "Note: This project doesn't aim to apply predicition models like linear regression. The goal is to conduct an in-depth EDA and derive insights."
   ]
  },
  {
   "cell_type": "markdown",
   "id": "0fc4b499",
   "metadata": {},
   "source": [
    "### Importing relevant libraries"
   ]
  },
  {
   "cell_type": "code",
   "execution_count": 2,
   "id": "1e92b785",
   "metadata": {},
   "outputs": [],
   "source": [
    "# As the first step, it's important to import the necessary libraries\n",
    "\n",
    "#For data manipulation \n",
    "import pandas as pd\n",
    "import numpy as np\n",
    "\n",
    "#For data visualization\n",
    "import seaborn as sns\n",
    "import matplotlib.pyplot as plt\n",
    "from matplotlib import rcParams"
   ]
  },
  {
   "cell_type": "markdown",
   "id": "06de22e1",
   "metadata": {},
   "source": [
    "### Loading the data"
   ]
  },
  {
   "cell_type": "code",
   "execution_count": 3,
   "id": "4c6db960",
   "metadata": {
    "scrolled": true
   },
   "outputs": [
    {
     "data": {
      "text/html": [
       "<div>\n",
       "<style scoped>\n",
       "    .dataframe tbody tr th:only-of-type {\n",
       "        vertical-align: middle;\n",
       "    }\n",
       "\n",
       "    .dataframe tbody tr th {\n",
       "        vertical-align: top;\n",
       "    }\n",
       "\n",
       "    .dataframe thead th {\n",
       "        text-align: right;\n",
       "    }\n",
       "</style>\n",
       "<table border=\"1\" class=\"dataframe\">\n",
       "  <thead>\n",
       "    <tr style=\"text-align: right;\">\n",
       "      <th></th>\n",
       "      <th>Posted On</th>\n",
       "      <th>BHK</th>\n",
       "      <th>Rent</th>\n",
       "      <th>Size</th>\n",
       "      <th>Floor</th>\n",
       "      <th>Area Type</th>\n",
       "      <th>Area Locality</th>\n",
       "      <th>City</th>\n",
       "      <th>Furnishing Status</th>\n",
       "      <th>Tenant Preferred</th>\n",
       "      <th>Bathroom</th>\n",
       "      <th>Point of Contact</th>\n",
       "    </tr>\n",
       "  </thead>\n",
       "  <tbody>\n",
       "    <tr>\n",
       "      <th>0</th>\n",
       "      <td>5/18/2022</td>\n",
       "      <td>2</td>\n",
       "      <td>10000</td>\n",
       "      <td>1100</td>\n",
       "      <td>Ground out of 2</td>\n",
       "      <td>Super Area</td>\n",
       "      <td>Bandel</td>\n",
       "      <td>Kolkata</td>\n",
       "      <td>Unfurnished</td>\n",
       "      <td>Bachelors/Family</td>\n",
       "      <td>2</td>\n",
       "      <td>Contact Owner</td>\n",
       "    </tr>\n",
       "    <tr>\n",
       "      <th>1</th>\n",
       "      <td>5/13/2022</td>\n",
       "      <td>2</td>\n",
       "      <td>20000</td>\n",
       "      <td>800</td>\n",
       "      <td>1 out of 3</td>\n",
       "      <td>Super Area</td>\n",
       "      <td>Phool Bagan, Kankurgachi</td>\n",
       "      <td>Kolkata</td>\n",
       "      <td>Semi-Furnished</td>\n",
       "      <td>Bachelors/Family</td>\n",
       "      <td>1</td>\n",
       "      <td>Contact Owner</td>\n",
       "    </tr>\n",
       "    <tr>\n",
       "      <th>2</th>\n",
       "      <td>5/16/2022</td>\n",
       "      <td>2</td>\n",
       "      <td>17000</td>\n",
       "      <td>1000</td>\n",
       "      <td>1 out of 3</td>\n",
       "      <td>Super Area</td>\n",
       "      <td>Salt Lake City Sector 2</td>\n",
       "      <td>Kolkata</td>\n",
       "      <td>Semi-Furnished</td>\n",
       "      <td>Bachelors/Family</td>\n",
       "      <td>1</td>\n",
       "      <td>Contact Owner</td>\n",
       "    </tr>\n",
       "    <tr>\n",
       "      <th>3</th>\n",
       "      <td>7/4/2022</td>\n",
       "      <td>2</td>\n",
       "      <td>10000</td>\n",
       "      <td>800</td>\n",
       "      <td>1 out of 2</td>\n",
       "      <td>Super Area</td>\n",
       "      <td>Dumdum Park</td>\n",
       "      <td>Kolkata</td>\n",
       "      <td>Unfurnished</td>\n",
       "      <td>Bachelors/Family</td>\n",
       "      <td>1</td>\n",
       "      <td>Contact Owner</td>\n",
       "    </tr>\n",
       "    <tr>\n",
       "      <th>4</th>\n",
       "      <td>5/9/2022</td>\n",
       "      <td>2</td>\n",
       "      <td>7500</td>\n",
       "      <td>850</td>\n",
       "      <td>1 out of 2</td>\n",
       "      <td>Carpet Area</td>\n",
       "      <td>South Dum Dum</td>\n",
       "      <td>Kolkata</td>\n",
       "      <td>Unfurnished</td>\n",
       "      <td>Bachelors</td>\n",
       "      <td>1</td>\n",
       "      <td>Contact Owner</td>\n",
       "    </tr>\n",
       "    <tr>\n",
       "      <th>...</th>\n",
       "      <td>...</td>\n",
       "      <td>...</td>\n",
       "      <td>...</td>\n",
       "      <td>...</td>\n",
       "      <td>...</td>\n",
       "      <td>...</td>\n",
       "      <td>...</td>\n",
       "      <td>...</td>\n",
       "      <td>...</td>\n",
       "      <td>...</td>\n",
       "      <td>...</td>\n",
       "      <td>...</td>\n",
       "    </tr>\n",
       "    <tr>\n",
       "      <th>4741</th>\n",
       "      <td>5/18/2022</td>\n",
       "      <td>2</td>\n",
       "      <td>15000</td>\n",
       "      <td>1000</td>\n",
       "      <td>3 out of 5</td>\n",
       "      <td>Carpet Area</td>\n",
       "      <td>Bandam Kommu</td>\n",
       "      <td>Hyderabad</td>\n",
       "      <td>Semi-Furnished</td>\n",
       "      <td>Bachelors/Family</td>\n",
       "      <td>2</td>\n",
       "      <td>Contact Owner</td>\n",
       "    </tr>\n",
       "    <tr>\n",
       "      <th>4742</th>\n",
       "      <td>5/15/2022</td>\n",
       "      <td>3</td>\n",
       "      <td>29000</td>\n",
       "      <td>2000</td>\n",
       "      <td>1 out of 4</td>\n",
       "      <td>Super Area</td>\n",
       "      <td>Manikonda, Hyderabad</td>\n",
       "      <td>Hyderabad</td>\n",
       "      <td>Semi-Furnished</td>\n",
       "      <td>Bachelors/Family</td>\n",
       "      <td>3</td>\n",
       "      <td>Contact Owner</td>\n",
       "    </tr>\n",
       "    <tr>\n",
       "      <th>4743</th>\n",
       "      <td>7/10/2022</td>\n",
       "      <td>3</td>\n",
       "      <td>35000</td>\n",
       "      <td>1750</td>\n",
       "      <td>3 out of 5</td>\n",
       "      <td>Carpet Area</td>\n",
       "      <td>Himayath Nagar, NH 7</td>\n",
       "      <td>Hyderabad</td>\n",
       "      <td>Semi-Furnished</td>\n",
       "      <td>Bachelors/Family</td>\n",
       "      <td>3</td>\n",
       "      <td>Contact Agent</td>\n",
       "    </tr>\n",
       "    <tr>\n",
       "      <th>4744</th>\n",
       "      <td>7/6/2022</td>\n",
       "      <td>3</td>\n",
       "      <td>45000</td>\n",
       "      <td>1500</td>\n",
       "      <td>23 out of 34</td>\n",
       "      <td>Carpet Area</td>\n",
       "      <td>Gachibowli</td>\n",
       "      <td>Hyderabad</td>\n",
       "      <td>Semi-Furnished</td>\n",
       "      <td>Family</td>\n",
       "      <td>2</td>\n",
       "      <td>Contact Agent</td>\n",
       "    </tr>\n",
       "    <tr>\n",
       "      <th>4745</th>\n",
       "      <td>5/4/2022</td>\n",
       "      <td>2</td>\n",
       "      <td>15000</td>\n",
       "      <td>1000</td>\n",
       "      <td>4 out of 5</td>\n",
       "      <td>Carpet Area</td>\n",
       "      <td>Suchitra Circle</td>\n",
       "      <td>Hyderabad</td>\n",
       "      <td>Unfurnished</td>\n",
       "      <td>Bachelors</td>\n",
       "      <td>2</td>\n",
       "      <td>Contact Owner</td>\n",
       "    </tr>\n",
       "  </tbody>\n",
       "</table>\n",
       "<p>4746 rows × 12 columns</p>\n",
       "</div>"
      ],
      "text/plain": [
       "      Posted On  BHK   Rent  Size            Floor    Area Type  \\\n",
       "0     5/18/2022    2  10000  1100  Ground out of 2   Super Area   \n",
       "1     5/13/2022    2  20000   800       1 out of 3   Super Area   \n",
       "2     5/16/2022    2  17000  1000       1 out of 3   Super Area   \n",
       "3      7/4/2022    2  10000   800       1 out of 2   Super Area   \n",
       "4      5/9/2022    2   7500   850       1 out of 2  Carpet Area   \n",
       "...         ...  ...    ...   ...              ...          ...   \n",
       "4741  5/18/2022    2  15000  1000       3 out of 5  Carpet Area   \n",
       "4742  5/15/2022    3  29000  2000       1 out of 4   Super Area   \n",
       "4743  7/10/2022    3  35000  1750       3 out of 5  Carpet Area   \n",
       "4744   7/6/2022    3  45000  1500     23 out of 34  Carpet Area   \n",
       "4745   5/4/2022    2  15000  1000       4 out of 5  Carpet Area   \n",
       "\n",
       "                 Area Locality       City Furnishing Status  Tenant Preferred  \\\n",
       "0                       Bandel    Kolkata       Unfurnished  Bachelors/Family   \n",
       "1     Phool Bagan, Kankurgachi    Kolkata    Semi-Furnished  Bachelors/Family   \n",
       "2      Salt Lake City Sector 2    Kolkata    Semi-Furnished  Bachelors/Family   \n",
       "3                  Dumdum Park    Kolkata       Unfurnished  Bachelors/Family   \n",
       "4                South Dum Dum    Kolkata       Unfurnished         Bachelors   \n",
       "...                        ...        ...               ...               ...   \n",
       "4741              Bandam Kommu  Hyderabad    Semi-Furnished  Bachelors/Family   \n",
       "4742      Manikonda, Hyderabad  Hyderabad    Semi-Furnished  Bachelors/Family   \n",
       "4743      Himayath Nagar, NH 7  Hyderabad    Semi-Furnished  Bachelors/Family   \n",
       "4744                Gachibowli  Hyderabad    Semi-Furnished            Family   \n",
       "4745           Suchitra Circle  Hyderabad       Unfurnished         Bachelors   \n",
       "\n",
       "      Bathroom Point of Contact  \n",
       "0            2    Contact Owner  \n",
       "1            1    Contact Owner  \n",
       "2            1    Contact Owner  \n",
       "3            1    Contact Owner  \n",
       "4            1    Contact Owner  \n",
       "...        ...              ...  \n",
       "4741         2    Contact Owner  \n",
       "4742         3    Contact Owner  \n",
       "4743         3    Contact Agent  \n",
       "4744         2    Contact Agent  \n",
       "4745         2    Contact Owner  \n",
       "\n",
       "[4746 rows x 12 columns]"
      ]
     },
     "execution_count": 3,
     "metadata": {},
     "output_type": "execute_result"
    }
   ],
   "source": [
    "# Bringing in our data\n",
    "\n",
    "df = pd.read_csv(\"House_Rent_Dataset.csv\")\n",
    "\n",
    "# Viewing a sample of our data \n",
    "df"
   ]
  },
  {
   "cell_type": "code",
   "execution_count": 4,
   "id": "7febff8b",
   "metadata": {
    "scrolled": true
   },
   "outputs": [
    {
     "name": "stdout",
     "output_type": "stream",
     "text": [
      "<class 'pandas.core.frame.DataFrame'>\n",
      "RangeIndex: 4746 entries, 0 to 4745\n",
      "Data columns (total 12 columns):\n",
      " #   Column             Non-Null Count  Dtype \n",
      "---  ------             --------------  ----- \n",
      " 0   Posted On          4746 non-null   object\n",
      " 1   BHK                4746 non-null   int64 \n",
      " 2   Rent               4746 non-null   int64 \n",
      " 3   Size               4746 non-null   int64 \n",
      " 4   Floor              4746 non-null   object\n",
      " 5   Area Type          4746 non-null   object\n",
      " 6   Area Locality      4746 non-null   object\n",
      " 7   City               4746 non-null   object\n",
      " 8   Furnishing Status  4746 non-null   object\n",
      " 9   Tenant Preferred   4746 non-null   object\n",
      " 10  Bathroom           4746 non-null   int64 \n",
      " 11  Point of Contact   4746 non-null   object\n",
      "dtypes: int64(4), object(8)\n",
      "memory usage: 445.1+ KB\n"
     ]
    }
   ],
   "source": [
    "# Gauging the summary of the data\n",
    "\n",
    "df.info()\n",
    "\n",
    "# The .info() function provides us with information like the column data types, null values and overall memory usage.\n"
   ]
  },
  {
   "cell_type": "markdown",
   "id": "68837a58",
   "metadata": {},
   "source": [
    "### Data Dictionary"
   ]
  },
  {
   "cell_type": "markdown",
   "id": "a1300c70",
   "metadata": {},
   "source": [
    "**0. Date Posted:** The date when the property listing was posted\n",
    "\n",
    "\n",
    "**1. BHK:** The no. of bedrooms with a hall and a kitchen\n",
    "\n",
    "\n",
    "**2. Rent:** The rent price for the property (in Indian Rupees)\n",
    "\n",
    "\n",
    "**3. Size:** The size of the property (in square feet)\n",
    "\n",
    "\n",
    "**4. Floor:** The floor where the property is situated along with the total number of floors (in case of a multi-storey building)\n",
    "\n",
    "\n",
    "**5. Area Type:** The size of the property classified as   \n",
    "\n",
    "\n",
    "**6. Area Locality:** The area or neighbourhood of the property.\n",
    "\n",
    "\n",
    "**7. City:** The city where the property is located\n",
    "\n",
    "\n",
    "**8. Furnishing Status:** The level of furniture of amenities provided in the property\n",
    "\n",
    "\n",
    "**9. Tenant Preferred:** The type of tenant as per the desried characteristics of the tenant.\n",
    "\n",
    "\n",
    "**10. Bathroom:** The no. of bathrooms available in the property\n",
    "\n",
    "\n",
    "**11. Point of Contact:** The assigned person/party that should be contacted to discuss the property arrangement"
   ]
  },
  {
   "cell_type": "code",
   "execution_count": 72,
   "id": "74234842",
   "metadata": {},
   "outputs": [
    {
     "data": {
      "text/html": [
       "<div>\n",
       "<style scoped>\n",
       "    .dataframe tbody tr th:only-of-type {\n",
       "        vertical-align: middle;\n",
       "    }\n",
       "\n",
       "    .dataframe tbody tr th {\n",
       "        vertical-align: top;\n",
       "    }\n",
       "\n",
       "    .dataframe thead th {\n",
       "        text-align: right;\n",
       "    }\n",
       "</style>\n",
       "<table border=\"1\" class=\"dataframe\">\n",
       "  <thead>\n",
       "    <tr style=\"text-align: right;\">\n",
       "      <th></th>\n",
       "      <th>BHK</th>\n",
       "      <th>Rent(INR)</th>\n",
       "      <th>Size(sq. ft.)</th>\n",
       "      <th>Bathroom</th>\n",
       "    </tr>\n",
       "  </thead>\n",
       "  <tbody>\n",
       "    <tr>\n",
       "      <th>count</th>\n",
       "      <td>4746.000000</td>\n",
       "      <td>4.746000e+03</td>\n",
       "      <td>4746.000000</td>\n",
       "      <td>4746.000000</td>\n",
       "    </tr>\n",
       "    <tr>\n",
       "      <th>mean</th>\n",
       "      <td>2.083860</td>\n",
       "      <td>3.499345e+04</td>\n",
       "      <td>967.490729</td>\n",
       "      <td>1.965866</td>\n",
       "    </tr>\n",
       "    <tr>\n",
       "      <th>std</th>\n",
       "      <td>0.832256</td>\n",
       "      <td>7.810641e+04</td>\n",
       "      <td>634.202328</td>\n",
       "      <td>0.884532</td>\n",
       "    </tr>\n",
       "    <tr>\n",
       "      <th>min</th>\n",
       "      <td>1.000000</td>\n",
       "      <td>1.200000e+03</td>\n",
       "      <td>10.000000</td>\n",
       "      <td>1.000000</td>\n",
       "    </tr>\n",
       "    <tr>\n",
       "      <th>25%</th>\n",
       "      <td>2.000000</td>\n",
       "      <td>1.000000e+04</td>\n",
       "      <td>550.000000</td>\n",
       "      <td>1.000000</td>\n",
       "    </tr>\n",
       "    <tr>\n",
       "      <th>50%</th>\n",
       "      <td>2.000000</td>\n",
       "      <td>1.600000e+04</td>\n",
       "      <td>850.000000</td>\n",
       "      <td>2.000000</td>\n",
       "    </tr>\n",
       "    <tr>\n",
       "      <th>75%</th>\n",
       "      <td>3.000000</td>\n",
       "      <td>3.300000e+04</td>\n",
       "      <td>1200.000000</td>\n",
       "      <td>2.000000</td>\n",
       "    </tr>\n",
       "    <tr>\n",
       "      <th>max</th>\n",
       "      <td>6.000000</td>\n",
       "      <td>3.500000e+06</td>\n",
       "      <td>8000.000000</td>\n",
       "      <td>10.000000</td>\n",
       "    </tr>\n",
       "  </tbody>\n",
       "</table>\n",
       "</div>"
      ],
      "text/plain": [
       "               BHK     Rent(INR)  Size(sq. ft.)     Bathroom\n",
       "count  4746.000000  4.746000e+03    4746.000000  4746.000000\n",
       "mean      2.083860  3.499345e+04     967.490729     1.965866\n",
       "std       0.832256  7.810641e+04     634.202328     0.884532\n",
       "min       1.000000  1.200000e+03      10.000000     1.000000\n",
       "25%       2.000000  1.000000e+04     550.000000     1.000000\n",
       "50%       2.000000  1.600000e+04     850.000000     2.000000\n",
       "75%       3.000000  3.300000e+04    1200.000000     2.000000\n",
       "max       6.000000  3.500000e+06    8000.000000    10.000000"
      ]
     },
     "execution_count": 72,
     "metadata": {},
     "output_type": "execute_result"
    }
   ],
   "source": [
    "# Fetching descriptive information about the data\n",
    "\n",
    "df.describe()\n",
    "\n",
    "# Note that descriptive statistics for only integer (int64) data type were generated. The text or object data types were excluded since it's implausible to generate quantiative descriptive statistics for them. "
   ]
  },
  {
   "cell_type": "code",
   "execution_count": 14,
   "id": "f240f2db",
   "metadata": {},
   "outputs": [
    {
     "data": {
      "text/plain": [
       "Posted On            0\n",
       "BHK                  0\n",
       "Rent                 0\n",
       "Size                 0\n",
       "Floor                0\n",
       "Area Type            0\n",
       "Area Locality        0\n",
       "City                 0\n",
       "Furnishing Status    0\n",
       "Tenant Preferred     0\n",
       "Bathroom             0\n",
       "Point of Contact     0\n",
       "dtype: int64"
      ]
     },
     "execution_count": 14,
     "metadata": {},
     "output_type": "execute_result"
    }
   ],
   "source": [
    "# To confirm the absence of null values\n",
    "\n",
    "df.isnull().sum()"
   ]
  },
  {
   "cell_type": "code",
   "execution_count": 5,
   "id": "d17e764b",
   "metadata": {},
   "outputs": [
    {
     "data": {
      "text/plain": [
       "Posted On              81\n",
       "BHK                     6\n",
       "Rent                  243\n",
       "Size                  615\n",
       "Floor                 480\n",
       "Area Type               3\n",
       "Area Locality        2235\n",
       "City                    6\n",
       "Furnishing Status       3\n",
       "Tenant Preferred        3\n",
       "Bathroom                8\n",
       "Point of Contact        3\n",
       "dtype: int64"
      ]
     },
     "execution_count": 5,
     "metadata": {},
     "output_type": "execute_result"
    }
   ],
   "source": [
    "# Counting unique values\n",
    "\n",
    "df.nunique()"
   ]
  },
  {
   "cell_type": "code",
   "execution_count": 19,
   "id": "80af812a",
   "metadata": {},
   "outputs": [
    {
     "data": {
      "text/plain": [
       "0"
      ]
     },
     "execution_count": 19,
     "metadata": {},
     "output_type": "execute_result"
    }
   ],
   "source": [
    "# Checking for duplicate values\n",
    "\n",
    "df.duplicated().sum()\n",
    "\n",
    "# This confirms that there are no duplicate values in the dataset. This is a good sign. "
   ]
  },
  {
   "cell_type": "code",
   "execution_count": 22,
   "id": "4905c57d",
   "metadata": {},
   "outputs": [
    {
     "data": {
      "text/html": [
       "<div>\n",
       "<style scoped>\n",
       "    .dataframe tbody tr th:only-of-type {\n",
       "        vertical-align: middle;\n",
       "    }\n",
       "\n",
       "    .dataframe tbody tr th {\n",
       "        vertical-align: top;\n",
       "    }\n",
       "\n",
       "    .dataframe thead th {\n",
       "        text-align: right;\n",
       "    }\n",
       "</style>\n",
       "<table border=\"1\" class=\"dataframe\">\n",
       "  <thead>\n",
       "    <tr style=\"text-align: right;\">\n",
       "      <th></th>\n",
       "      <th>Posted On</th>\n",
       "      <th>BHK</th>\n",
       "      <th>Rent(INR)</th>\n",
       "      <th>Size(sq. ft.)</th>\n",
       "      <th>Floor</th>\n",
       "      <th>Area Type</th>\n",
       "      <th>Area Locality</th>\n",
       "      <th>City</th>\n",
       "      <th>Furnishing Status</th>\n",
       "      <th>Tenant Preferred</th>\n",
       "      <th>Bathroom</th>\n",
       "      <th>Point of Contact</th>\n",
       "    </tr>\n",
       "  </thead>\n",
       "  <tbody>\n",
       "    <tr>\n",
       "      <th>0</th>\n",
       "      <td>5/18/2022</td>\n",
       "      <td>2</td>\n",
       "      <td>10000</td>\n",
       "      <td>1100</td>\n",
       "      <td>Ground out of 2</td>\n",
       "      <td>Super Area</td>\n",
       "      <td>Bandel</td>\n",
       "      <td>Kolkata</td>\n",
       "      <td>Unfurnished</td>\n",
       "      <td>Bachelors/Family</td>\n",
       "      <td>2</td>\n",
       "      <td>Contact Owner</td>\n",
       "    </tr>\n",
       "    <tr>\n",
       "      <th>1</th>\n",
       "      <td>5/13/2022</td>\n",
       "      <td>2</td>\n",
       "      <td>20000</td>\n",
       "      <td>800</td>\n",
       "      <td>1 out of 3</td>\n",
       "      <td>Super Area</td>\n",
       "      <td>Phool Bagan, Kankurgachi</td>\n",
       "      <td>Kolkata</td>\n",
       "      <td>Semi-Furnished</td>\n",
       "      <td>Bachelors/Family</td>\n",
       "      <td>1</td>\n",
       "      <td>Contact Owner</td>\n",
       "    </tr>\n",
       "    <tr>\n",
       "      <th>2</th>\n",
       "      <td>5/16/2022</td>\n",
       "      <td>2</td>\n",
       "      <td>17000</td>\n",
       "      <td>1000</td>\n",
       "      <td>1 out of 3</td>\n",
       "      <td>Super Area</td>\n",
       "      <td>Salt Lake City Sector 2</td>\n",
       "      <td>Kolkata</td>\n",
       "      <td>Semi-Furnished</td>\n",
       "      <td>Bachelors/Family</td>\n",
       "      <td>1</td>\n",
       "      <td>Contact Owner</td>\n",
       "    </tr>\n",
       "    <tr>\n",
       "      <th>3</th>\n",
       "      <td>7/4/2022</td>\n",
       "      <td>2</td>\n",
       "      <td>10000</td>\n",
       "      <td>800</td>\n",
       "      <td>1 out of 2</td>\n",
       "      <td>Super Area</td>\n",
       "      <td>Dumdum Park</td>\n",
       "      <td>Kolkata</td>\n",
       "      <td>Unfurnished</td>\n",
       "      <td>Bachelors/Family</td>\n",
       "      <td>1</td>\n",
       "      <td>Contact Owner</td>\n",
       "    </tr>\n",
       "    <tr>\n",
       "      <th>4</th>\n",
       "      <td>5/9/2022</td>\n",
       "      <td>2</td>\n",
       "      <td>7500</td>\n",
       "      <td>850</td>\n",
       "      <td>1 out of 2</td>\n",
       "      <td>Carpet Area</td>\n",
       "      <td>South Dum Dum</td>\n",
       "      <td>Kolkata</td>\n",
       "      <td>Unfurnished</td>\n",
       "      <td>Bachelors</td>\n",
       "      <td>1</td>\n",
       "      <td>Contact Owner</td>\n",
       "    </tr>\n",
       "    <tr>\n",
       "      <th>...</th>\n",
       "      <td>...</td>\n",
       "      <td>...</td>\n",
       "      <td>...</td>\n",
       "      <td>...</td>\n",
       "      <td>...</td>\n",
       "      <td>...</td>\n",
       "      <td>...</td>\n",
       "      <td>...</td>\n",
       "      <td>...</td>\n",
       "      <td>...</td>\n",
       "      <td>...</td>\n",
       "      <td>...</td>\n",
       "    </tr>\n",
       "    <tr>\n",
       "      <th>4741</th>\n",
       "      <td>5/18/2022</td>\n",
       "      <td>2</td>\n",
       "      <td>15000</td>\n",
       "      <td>1000</td>\n",
       "      <td>3 out of 5</td>\n",
       "      <td>Carpet Area</td>\n",
       "      <td>Bandam Kommu</td>\n",
       "      <td>Hyderabad</td>\n",
       "      <td>Semi-Furnished</td>\n",
       "      <td>Bachelors/Family</td>\n",
       "      <td>2</td>\n",
       "      <td>Contact Owner</td>\n",
       "    </tr>\n",
       "    <tr>\n",
       "      <th>4742</th>\n",
       "      <td>5/15/2022</td>\n",
       "      <td>3</td>\n",
       "      <td>29000</td>\n",
       "      <td>2000</td>\n",
       "      <td>1 out of 4</td>\n",
       "      <td>Super Area</td>\n",
       "      <td>Manikonda, Hyderabad</td>\n",
       "      <td>Hyderabad</td>\n",
       "      <td>Semi-Furnished</td>\n",
       "      <td>Bachelors/Family</td>\n",
       "      <td>3</td>\n",
       "      <td>Contact Owner</td>\n",
       "    </tr>\n",
       "    <tr>\n",
       "      <th>4743</th>\n",
       "      <td>7/10/2022</td>\n",
       "      <td>3</td>\n",
       "      <td>35000</td>\n",
       "      <td>1750</td>\n",
       "      <td>3 out of 5</td>\n",
       "      <td>Carpet Area</td>\n",
       "      <td>Himayath Nagar, NH 7</td>\n",
       "      <td>Hyderabad</td>\n",
       "      <td>Semi-Furnished</td>\n",
       "      <td>Bachelors/Family</td>\n",
       "      <td>3</td>\n",
       "      <td>Contact Agent</td>\n",
       "    </tr>\n",
       "    <tr>\n",
       "      <th>4744</th>\n",
       "      <td>7/6/2022</td>\n",
       "      <td>3</td>\n",
       "      <td>45000</td>\n",
       "      <td>1500</td>\n",
       "      <td>23 out of 34</td>\n",
       "      <td>Carpet Area</td>\n",
       "      <td>Gachibowli</td>\n",
       "      <td>Hyderabad</td>\n",
       "      <td>Semi-Furnished</td>\n",
       "      <td>Family</td>\n",
       "      <td>2</td>\n",
       "      <td>Contact Agent</td>\n",
       "    </tr>\n",
       "    <tr>\n",
       "      <th>4745</th>\n",
       "      <td>5/4/2022</td>\n",
       "      <td>2</td>\n",
       "      <td>15000</td>\n",
       "      <td>1000</td>\n",
       "      <td>4 out of 5</td>\n",
       "      <td>Carpet Area</td>\n",
       "      <td>Suchitra Circle</td>\n",
       "      <td>Hyderabad</td>\n",
       "      <td>Unfurnished</td>\n",
       "      <td>Bachelors</td>\n",
       "      <td>2</td>\n",
       "      <td>Contact Owner</td>\n",
       "    </tr>\n",
       "  </tbody>\n",
       "</table>\n",
       "<p>4746 rows × 12 columns</p>\n",
       "</div>"
      ],
      "text/plain": [
       "      Posted On  BHK  Rent(INR)  Size(sq. ft.)            Floor    Area Type  \\\n",
       "0     5/18/2022    2      10000           1100  Ground out of 2   Super Area   \n",
       "1     5/13/2022    2      20000            800       1 out of 3   Super Area   \n",
       "2     5/16/2022    2      17000           1000       1 out of 3   Super Area   \n",
       "3      7/4/2022    2      10000            800       1 out of 2   Super Area   \n",
       "4      5/9/2022    2       7500            850       1 out of 2  Carpet Area   \n",
       "...         ...  ...        ...            ...              ...          ...   \n",
       "4741  5/18/2022    2      15000           1000       3 out of 5  Carpet Area   \n",
       "4742  5/15/2022    3      29000           2000       1 out of 4   Super Area   \n",
       "4743  7/10/2022    3      35000           1750       3 out of 5  Carpet Area   \n",
       "4744   7/6/2022    3      45000           1500     23 out of 34  Carpet Area   \n",
       "4745   5/4/2022    2      15000           1000       4 out of 5  Carpet Area   \n",
       "\n",
       "                 Area Locality       City Furnishing Status  Tenant Preferred  \\\n",
       "0                       Bandel    Kolkata       Unfurnished  Bachelors/Family   \n",
       "1     Phool Bagan, Kankurgachi    Kolkata    Semi-Furnished  Bachelors/Family   \n",
       "2      Salt Lake City Sector 2    Kolkata    Semi-Furnished  Bachelors/Family   \n",
       "3                  Dumdum Park    Kolkata       Unfurnished  Bachelors/Family   \n",
       "4                South Dum Dum    Kolkata       Unfurnished         Bachelors   \n",
       "...                        ...        ...               ...               ...   \n",
       "4741              Bandam Kommu  Hyderabad    Semi-Furnished  Bachelors/Family   \n",
       "4742      Manikonda, Hyderabad  Hyderabad    Semi-Furnished  Bachelors/Family   \n",
       "4743      Himayath Nagar, NH 7  Hyderabad    Semi-Furnished  Bachelors/Family   \n",
       "4744                Gachibowli  Hyderabad    Semi-Furnished            Family   \n",
       "4745           Suchitra Circle  Hyderabad       Unfurnished         Bachelors   \n",
       "\n",
       "      Bathroom Point of Contact  \n",
       "0            2    Contact Owner  \n",
       "1            1    Contact Owner  \n",
       "2            1    Contact Owner  \n",
       "3            1    Contact Owner  \n",
       "4            1    Contact Owner  \n",
       "...        ...              ...  \n",
       "4741         2    Contact Owner  \n",
       "4742         3    Contact Owner  \n",
       "4743         3    Contact Agent  \n",
       "4744         2    Contact Agent  \n",
       "4745         2    Contact Owner  \n",
       "\n",
       "[4746 rows x 12 columns]"
      ]
     },
     "execution_count": 22,
     "metadata": {},
     "output_type": "execute_result"
    }
   ],
   "source": [
    "# Performing some data cleaning\n",
    "\n",
    "# Rename columns to make them more descriptive\n",
    "\n",
    "df.rename(columns={\"Rent\":\"Rent(INR)\", \"Size\":\"Size(sq. ft.)\"}, inplace=True)\n",
    "df"
   ]
  },
  {
   "cell_type": "code",
   "execution_count": 27,
   "id": "6a32c2fa",
   "metadata": {
    "scrolled": true
   },
   "outputs": [
    {
     "name": "stdout",
     "output_type": "stream",
     "text": [
      "<class 'pandas.core.frame.DataFrame'>\n",
      "RangeIndex: 4746 entries, 0 to 4745\n",
      "Data columns (total 12 columns):\n",
      " #   Column             Non-Null Count  Dtype  \n",
      "---  ------             --------------  -----  \n",
      " 0   Posted On          4746 non-null   object \n",
      " 1   BHK                4746 non-null   int64  \n",
      " 2   Rent(INR)          4746 non-null   float64\n",
      " 3   Size(sq. ft.)      4746 non-null   int64  \n",
      " 4   Floor              4746 non-null   object \n",
      " 5   Area Type          4746 non-null   object \n",
      " 6   Area Locality      4746 non-null   object \n",
      " 7   City               4746 non-null   object \n",
      " 8   Furnishing Status  4746 non-null   object \n",
      " 9   Tenant Preferred   4746 non-null   object \n",
      " 10  Bathroom           4746 non-null   int64  \n",
      " 11  Point of Contact   4746 non-null   object \n",
      "dtypes: float64(1), int64(3), object(8)\n",
      "memory usage: 445.1+ KB\n"
     ]
    }
   ],
   "source": [
    "# Changing the data type of the 'Rent(INR)' column\n",
    "\n",
    "df['Rent(INR)'] = df['Rent(INR)'].astype(float)\n",
    "df.info()\n",
    "\n",
    "# Converted the 'Rent(INR)' column from an integer type to a float type for better precision. "
   ]
  },
  {
   "cell_type": "markdown",
   "id": "cc2e3a56",
   "metadata": {},
   "source": [
    "### Univariate Analysis - Single-variable analysis"
   ]
  },
  {
   "cell_type": "code",
   "execution_count": 70,
   "id": "71916b43",
   "metadata": {},
   "outputs": [],
   "source": [
    "# Conducting Univariate analysis for some of the variables.\n",
    "\n",
    "# The previous steps have given us a high level overall picture of the dataset.\n",
    "\n",
    "# Now we want to more precisely assess some variables individually.\n",
    "\n",
    "# Since we have quite a few variables, we are going to sample some of them that look interesting.\n",
    "\n",
    "# We are going to choose a combination of categorical and numerical variables."
   ]
  },
  {
   "cell_type": "code",
   "execution_count": 74,
   "id": "55e952c7",
   "metadata": {},
   "outputs": [
    {
     "data": {
      "text/plain": [
       "Bachelors/Family    72.566372\n",
       "Bachelors           17.488411\n",
       "Family               9.945217\n",
       "Name: Tenant Preferred, dtype: float64"
      ]
     },
     "execution_count": 74,
     "metadata": {},
     "output_type": "execute_result"
    }
   ],
   "source": [
    "# Categorical variables chosen: Tenant Preferred, City and Furnishing Status\n",
    "\n",
    "# 1. Tenant Preferred\n",
    "\n",
    "# Understanding the percentage distribution of differnt categories\n",
    "\n",
    "percentage_dist_tenant = df['Tenant Preferred'].value_counts(normalize=True) * 100\n",
    "percentage_dist_tenant\n"
   ]
  },
  {
   "cell_type": "code",
   "execution_count": 6,
   "id": "b9c3809f",
   "metadata": {},
   "outputs": [
    {
     "data": {
      "text/plain": [
       "<AxesSubplot:title={'center':'Tenant preference by landlords'}, ylabel='Tenant Preferred'>"
      ]
     },
     "execution_count": 6,
     "metadata": {},
     "output_type": "execute_result"
    },
    {
     "data": {
      "image/png": "[encoded data removed]",
      "text/plain": [
       "<Figure size 432x288 with 1 Axes>"
      ]
     },
     "metadata": {},
     "output_type": "display_data"
    }
   ],
   "source": [
    "# Plotting the above data for better comprehension\n",
    "\n",
    "percentage_dist_plot_tenant = df['Tenant Preferred'].value_counts().plot(kind=\"pie\", autopct='%1.1f%%')\n",
    "plt.title(\"Tenant preference by landlords\")\n",
    "\n",
    "percentage_dist_plot_tenant\n"
   ]
  },
  {
   "cell_type": "markdown",
   "id": "842fdcc0",
   "metadata": {},
   "source": [
    "**Insights:**\n",
    "\n",
    "- Majority of landlords are indifferent about the tenants being bachelors or family, as per the data.\n",
    "\n",
    " \n",
    "- Speaking from personal experience, there exists a general tendency to prefer families as tenants due to reasons like an added sense of financial security and overall civility that a family arrangement bring with it."
   ]
  },
  {
   "cell_type": "code",
   "execution_count": 52,
   "id": "56fd52ef",
   "metadata": {},
   "outputs": [
    {
     "data": {
      "text/plain": [
       "Mumbai       20.480405\n",
       "Chennai      18.773704\n",
       "Bangalore    18.668352\n",
       "Hyderabad    18.289086\n",
       "Delhi        12.747577\n",
       "Kolkata      11.040877\n",
       "Name: City, dtype: float64"
      ]
     },
     "execution_count": 52,
     "metadata": {},
     "output_type": "execute_result"
    }
   ],
   "source": [
    "# 2. City\n",
    "\n",
    "percentage_dist_city = df['City'].value_counts(normalize=True) * 100\n",
    "percentage_dist_city\n"
   ]
  },
  {
   "cell_type": "code",
   "execution_count": 53,
   "id": "08c68914",
   "metadata": {
    "scrolled": true
   },
   "outputs": [
    {
     "data": {
      "text/plain": [
       "<AxesSubplot:title={'center':'Distribution across different cities'}, xlabel='City', ylabel='Count'>"
      ]
     },
     "execution_count": 53,
     "metadata": {},
     "output_type": "execute_result"
    },
    {
     "data": {
      "image/png": "[encoded data removed]",
      "text/plain": [
       "<Figure size 432x288 with 1 Axes>"
      ]
     },
     "metadata": {
      "needs_background": "light"
     },
     "output_type": "display_data"
    }
   ],
   "source": [
    "# Plotting the above data for better comprehension\n",
    "\n",
    "percentage_dist_plot_city = df['City'].value_counts().plot(kind=\"bar\")\n",
    "plt.title(\"Distribution across different cities\")\n",
    "plt.xlabel(\"City\")\n",
    "plt.xticks(rotation=0)\n",
    "plt.ylabel(\"Count\")\n",
    "\n",
    "percentage_dist_plot_city\n",
    "\n",
    "# The distribution looks fairly balanced with the execptions of Delhi and Kolkata."
   ]
  },
  {
   "cell_type": "markdown",
   "id": "bc3921f2",
   "metadata": {},
   "source": [
    "**Insights:**\n",
    "\n",
    "- Cities like Mumbai, Bangalore, Chennai and Hyderabad offer more number rental options. One of the potential reasons could include the fact that these cities attract a lot of migrant professionals who come to these cities seeking jobs. "
   ]
  },
  {
   "cell_type": "code",
   "execution_count": 54,
   "id": "b91f9b3a",
   "metadata": {},
   "outputs": [
    {
     "data": {
      "text/plain": [
       "Semi-Furnished    47.429414\n",
       "Unfurnished       38.242731\n",
       "Furnished         14.327855\n",
       "Name: Furnishing Status, dtype: float64"
      ]
     },
     "execution_count": 54,
     "metadata": {},
     "output_type": "execute_result"
    }
   ],
   "source": [
    "# 3. Furnishing Status\n",
    "\n",
    "percentage_dist_furnish = df['Furnishing Status'].value_counts(normalize=True) * 100\n",
    "percentage_dist_furnish\n"
   ]
  },
  {
   "cell_type": "code",
   "execution_count": 55,
   "id": "b0939015",
   "metadata": {
    "scrolled": true
   },
   "outputs": [
    {
     "data": {
      "text/plain": [
       "<AxesSubplot:title={'center':'Distribution of different categories'}, xlabel='Furnishing Status', ylabel='Count'>"
      ]
     },
     "execution_count": 55,
     "metadata": {},
     "output_type": "execute_result"
    },
    {
     "data": {
      "image/png": "[encoded data removed]",
      "text/plain": [
       "<Figure size 432x288 with 1 Axes>"
      ]
     },
     "metadata": {
      "needs_background": "light"
     },
     "output_type": "display_data"
    }
   ],
   "source": [
    "# Plotting the above data for better comprehension\n",
    "\n",
    "percentage_dist_plot_furnish = df['Furnishing Status'].value_counts().plot(kind=\"bar\")\n",
    "plt.title(\"Distribution of different categories\")\n",
    "plt.xlabel(\"Furnishing Status\")\n",
    "plt.xticks(rotation=0)\n",
    "plt.ylabel(\"Count\")\n",
    "\n",
    "percentage_dist_plot_furnish\n",
    "\n",
    "# Similar to the Area Type variable, the 'Furnished' class is considerably smaller than the other two classes."
   ]
  },
  {
   "cell_type": "markdown",
   "id": "bd21aa16",
   "metadata": {},
   "source": [
    "**Insights:**\n",
    "\n",
    "- Most listed properties are semi-furnished or unfurnished. One of the rationales behind doing this would be from the landlord's/owner's point of view as having minimal or no furnishing facilities is cost-effective as there is no expenditure on the purchase and maintenance of furniture and appliances.  \n",
    "\n",
    "This makes sense for the Indian market which is price-sensitive, generally speaking.  "
   ]
  },
  {
   "cell_type": "code",
   "execution_count": null,
   "id": "ef221a71",
   "metadata": {},
   "outputs": [],
   "source": [
    "# Moving on to numeric variables now."
   ]
  },
  {
   "cell_type": "code",
   "execution_count": 56,
   "id": "ef47e7ae",
   "metadata": {},
   "outputs": [
    {
     "data": {
      "text/plain": [
       "count    4746.000000\n",
       "mean      967.490729\n",
       "std       634.202328\n",
       "min        10.000000\n",
       "25%       550.000000\n",
       "50%       850.000000\n",
       "75%      1200.000000\n",
       "max      8000.000000\n",
       "Name: Size(sq. ft.), dtype: float64"
      ]
     },
     "execution_count": 56,
     "metadata": {},
     "output_type": "execute_result"
    }
   ],
   "source": [
    "# Numeric variables chosen: Size (sq. ft.) and BHK\n",
    "\n",
    "# 1. Size (sq. ft.)\n",
    "\n",
    "# Summary statistics\n",
    "\n",
    "size_stats = df['Size(sq. ft.)'].describe()\n",
    "size_stats"
   ]
  },
  {
   "cell_type": "code",
   "execution_count": 57,
   "id": "83c6cb3b",
   "metadata": {},
   "outputs": [
    {
     "data": {
      "text/plain": [
       "(array([2.313e+03, 1.912e+03, 3.710e+02, 9.800e+01, 3.400e+01, 1.300e+01,\n",
       "        1.000e+00, 2.000e+00, 1.000e+00, 1.000e+00]),\n",
       " array([  10.,  809., 1608., 2407., 3206., 4005., 4804., 5603., 6402.,\n",
       "        7201., 8000.]),\n",
       " <BarContainer object of 10 artists>)"
      ]
     },
     "execution_count": 57,
     "metadata": {},
     "output_type": "execute_result"
    },
    {
     "data": {
      "image/png": "[encoded data removed]",
      "text/plain": [
       "<Figure size 432x288 with 1 Axes>"
      ]
     },
     "metadata": {
      "needs_background": "light"
     },
     "output_type": "display_data"
    }
   ],
   "source": [
    "# Plotting a histogram to visualize the distribution\n",
    "\n",
    "size_stats_hist = plt.hist(df['Size(sq. ft.)'], bins = 10, edgecolor='blue')\n",
    "plt.xlabel('Size(sq. ft.)')\n",
    "plt.ylabel('Frequency')\n",
    "plt.title('Histogram of Size')\n",
    "\n",
    "size_stats_hist"
   ]
  },
  {
   "cell_type": "code",
   "execution_count": 87,
   "id": "ed7f3015",
   "metadata": {},
   "outputs": [
    {
     "name": "stdout",
     "output_type": "stream",
     "text": [
      "Kurtosis: 11.028080294571417\n",
      "Skewness: 2.2998924373541834\n"
     ]
    }
   ],
   "source": [
    "# Evaluating the Kurtosis and Asymmetry\n",
    "\n",
    "print(f\"Kurtosis: {df['Size(sq. ft.)'].kurt()}\")\n",
    "print(f\"Skewness: {df['Size(sq. ft.)'].skew()}\")\n",
    "\n",
    "# Kurtosis measure the presence of outliers in the data. \n",
    "# A kurtosis value of 11.03 indicates the presence of extreme values.\n",
    "\n",
    "# Skewness guages the asymmetry of data and indicates whethere the data is skewed towards: the left(negative) or right(positive)\n",
    "# A skewness value of 2.29 indicates that the data is positively skewed i.e. skewed towards higher values."
   ]
  },
  {
   "cell_type": "code",
   "execution_count": 58,
   "id": "e4377dd8",
   "metadata": {},
   "outputs": [
    {
     "data": {
      "text/plain": [
       "count    4746.000000\n",
       "mean        2.083860\n",
       "std         0.832256\n",
       "min         1.000000\n",
       "25%         2.000000\n",
       "50%         2.000000\n",
       "75%         3.000000\n",
       "max         6.000000\n",
       "Name: BHK, dtype: float64"
      ]
     },
     "execution_count": 58,
     "metadata": {},
     "output_type": "execute_result"
    }
   ],
   "source": [
    "# 2. BHK\n",
    "\n",
    "# Summary statistics\n",
    "\n",
    "bhk_stats = df['BHK'].describe()\n",
    "bhk_stats"
   ]
  },
  {
   "cell_type": "code",
   "execution_count": 62,
   "id": "96244e70",
   "metadata": {},
   "outputs": [
    {
     "data": {
      "text/plain": [
       "(array([1167., 2265., 1098.,  189.,   27.]),\n",
       " array([1., 2., 3., 4., 5., 6.]),\n",
       " <BarContainer object of 5 artists>)"
      ]
     },
     "execution_count": 62,
     "metadata": {},
     "output_type": "execute_result"
    },
    {
     "data": {
      "image/png": "[encoded data removed]",
      "text/plain": [
       "<Figure size 432x288 with 1 Axes>"
      ]
     },
     "metadata": {
      "needs_background": "light"
     },
     "output_type": "display_data"
    }
   ],
   "source": [
    "# Plotting a histogram to visualize the distribution\n",
    "\n",
    "bhk_stats_hist = plt.hist(df['BHK'], bins = 5, edgecolor='blue')\n",
    "plt.xlabel('BHK')\n",
    "plt.ylabel('Frequency')\n",
    "plt.title('Histogram of BHK')\n",
    "\n",
    "bhk_stats_hist"
   ]
  },
  {
   "cell_type": "code",
   "execution_count": 63,
   "id": "c02457ad",
   "metadata": {},
   "outputs": [
    {
     "name": "stdout",
     "output_type": "stream",
     "text": [
      "Kurtosis: 0.5992225175704253\n",
      "Skewness: 0.5992157733648072\n"
     ]
    }
   ],
   "source": [
    "# Evaluating the Kurtosis and Asymmetry\n",
    "\n",
    "print(f\"Kurtosis: {df['BHK'].kurt()}\")\n",
    "print(f\"Skewness: {df['BHK'].skew()}\")\n",
    "\n",
    "# Kurtosis measure the presence of outliers in the data. \n",
    "# A kurtosis value of 0.59 indicates the presence of fewer outliers or extreme values.\n",
    "\n",
    "# Skewness guages the asymmetry of data and indicates whethere the data is skewed towards the left(negative) or right(positive)\n",
    "# A skewness value of 0.59 indicates that their slight positive skewness i.e. minutely skewed towards higher values."
   ]
  },
  {
   "cell_type": "markdown",
   "id": "a5a535b2",
   "metadata": {},
   "source": [
    "### Multivariate Analysis - Multi-variable analysis"
   ]
  },
  {
   "cell_type": "code",
   "execution_count": 65,
   "id": "156411e2",
   "metadata": {},
   "outputs": [],
   "source": [
    "# Having studies the chracteristsics of variables individually, the next step is to assess the relationships between different variables. In other words, looking for signs like correaltion, dependencies, etc."
   ]
  },
  {
   "cell_type": "code",
   "execution_count": 92,
   "id": "04a5a9a6",
   "metadata": {},
   "outputs": [
    {
     "data": {
      "text/html": [
       "<div>\n",
       "<style scoped>\n",
       "    .dataframe tbody tr th:only-of-type {\n",
       "        vertical-align: middle;\n",
       "    }\n",
       "\n",
       "    .dataframe tbody tr th {\n",
       "        vertical-align: top;\n",
       "    }\n",
       "\n",
       "    .dataframe thead th {\n",
       "        text-align: right;\n",
       "    }\n",
       "</style>\n",
       "<table border=\"1\" class=\"dataframe\">\n",
       "  <thead>\n",
       "    <tr style=\"text-align: right;\">\n",
       "      <th></th>\n",
       "      <th>BHK</th>\n",
       "      <th>Rent(INR)</th>\n",
       "      <th>Size(sq. ft.)</th>\n",
       "      <th>Bathroom</th>\n",
       "    </tr>\n",
       "  </thead>\n",
       "  <tbody>\n",
       "    <tr>\n",
       "      <th>BHK</th>\n",
       "      <td>1.000000</td>\n",
       "      <td>0.369718</td>\n",
       "      <td>0.716145</td>\n",
       "      <td>0.794885</td>\n",
       "    </tr>\n",
       "    <tr>\n",
       "      <th>Rent(INR)</th>\n",
       "      <td>0.369718</td>\n",
       "      <td>1.000000</td>\n",
       "      <td>0.413551</td>\n",
       "      <td>0.441215</td>\n",
       "    </tr>\n",
       "    <tr>\n",
       "      <th>Size(sq. ft.)</th>\n",
       "      <td>0.716145</td>\n",
       "      <td>0.413551</td>\n",
       "      <td>1.000000</td>\n",
       "      <td>0.740703</td>\n",
       "    </tr>\n",
       "    <tr>\n",
       "      <th>Bathroom</th>\n",
       "      <td>0.794885</td>\n",
       "      <td>0.441215</td>\n",
       "      <td>0.740703</td>\n",
       "      <td>1.000000</td>\n",
       "    </tr>\n",
       "  </tbody>\n",
       "</table>\n",
       "</div>"
      ],
      "text/plain": [
       "                    BHK  Rent(INR)  Size(sq. ft.)  Bathroom\n",
       "BHK            1.000000   0.369718       0.716145  0.794885\n",
       "Rent(INR)      0.369718   1.000000       0.413551  0.441215\n",
       "Size(sq. ft.)  0.716145   0.413551       1.000000  0.740703\n",
       "Bathroom       0.794885   0.441215       0.740703  1.000000"
      ]
     },
     "execution_count": 92,
     "metadata": {},
     "output_type": "execute_result"
    }
   ],
   "source": [
    "# Finding correaltion between different variables\n",
    "\n",
    "df.corr()"
   ]
  },
  {
   "cell_type": "code",
   "execution_count": 95,
   "id": "0a78f0d3",
   "metadata": {},
   "outputs": [
    {
     "data": {
      "image/png": "[encoded data removed]",
      "text/plain": [
       "<Figure size 432x288 with 2 Axes>"
      ]
     },
     "metadata": {
      "needs_background": "light"
     },
     "output_type": "display_data"
    }
   ],
   "source": [
    "# To gain a better view of what the above table means, let's create a heatmap\n",
    "\n",
    "sns.heatmap(df.corr(), annot = True)\n",
    "plt.rcParams['figure.figsize'] = (20,7)\n",
    "plt.show()\n"
   ]
  },
  {
   "cell_type": "markdown",
   "id": "123642c8",
   "metadata": {},
   "source": [
    "**Insights:**\n",
    "\n",
    "- The above heatmap only takes into account numeric variables since they exist in a quantitative form and can be visualized for this chart.\n",
    "\n",
    "\n",
    "- It is interesting to note that there are no strong correlations between rent and other variables like BHK, Size(sq. ft.) and Bathroom. From common parliance, it is accepted that these factors dictate the rent of a property (the hypothesis) but the numbers do not prove (or at least cement) this hypothesis.\n",
    "\n",
    "\n",
    "*Note: As per general standards, a correlation coeffefficient value below 0.5 is considered a moderate to weak correlation.* "
   ]
  },
  {
   "cell_type": "markdown",
   "id": "b83e5fbe",
   "metadata": {},
   "source": [
    "### Comparing Rent against other variables and plotting the results"
   ]
  },
  {
   "cell_type": "code",
   "execution_count": 132,
   "id": "73cdf178",
   "metadata": {},
   "outputs": [
    {
     "data": {
      "image/png": "[encoded data removed]",
      "text/plain": [
       "<Figure size 1440x504 with 1 Axes>"
      ]
     },
     "metadata": {
      "needs_background": "light"
     },
     "output_type": "display_data"
    }
   ],
   "source": [
    "# Comparing Rent (prices) for different cities \n",
    "\n",
    "# Calculate the average rent for each category (City)\n",
    "average_rent_by_city = df.groupby('City')['Rent(INR)'].mean()\n",
    "\n",
    "# Comparing Rent (prices) for different cities\n",
    "rent_by_city = sns.barplot(x=df['City'], y=df['Rent(INR)'])\n",
    "plt.xlabel('City')\n",
    "plt.ylabel('Rent')\n",
    "\n",
    "# Add individual average rent values at the top of the bars\n",
    "for i, bar in enumerate(rent_by_city.patches):\n",
    "    height = bar.get_height()\n",
    "    plt.text(bar.get_x() + bar.get_width() / 2, height, f'{average_rent_by_city[df[\"City\"].unique()[i]]:.2f}', ha='center', va='bottom')\n",
    "\n",
    "# Display the plot\n",
    "plt.show()\n",
    "\n"
   ]
  },
  {
   "cell_type": "markdown",
   "id": "798ea0e9",
   "metadata": {},
   "source": [
    "**Insights:**\n",
    "\n",
    "- It looks like the average rent amount is the highest in the city of Mumbai, followed by Delhi and Bangalore. While that could be true, we must check for outliers (extreme values that significantly deviate from the overall dataset's pattern)."
   ]
  },
  {
   "cell_type": "code",
   "execution_count": 151,
   "id": "8c1a880b",
   "metadata": {},
   "outputs": [
    {
     "data": {
      "text/plain": [
       "Text(0, 0.5, 'Values')"
      ]
     },
     "execution_count": 151,
     "metadata": {},
     "output_type": "execute_result"
    },
    {
     "data": {
      "image/png": "[encoded data removed]",
      "text/plain": [
       "<Figure size 1440x504 with 1 Axes>"
      ]
     },
     "metadata": {
      "needs_background": "light"
     },
     "output_type": "display_data"
    }
   ],
   "source": [
    "# Create boxplots to identify outliers\n",
    "\n",
    "plt.boxplot(df['Rent(INR)'])\n",
    "\n",
    "plt.title('Boxplot of Rent(INR)')\n",
    "plt.ylabel('Values')"
   ]
  },
  {
   "cell_type": "markdown",
   "id": "8f15ba58",
   "metadata": {},
   "source": [
    "The rent field contains a lot of outliers. As can be observed from the graph, a lot of extreme values belong to the upper end of the boxplot whiskers which indicates that the data is skewed towards extremely high rent values present in the dataset.\n",
    "\n",
    "\n",
    "If the goal of the project post completing the EDA process is to model the data (i.e. run algorithms or predicition models like linear regression), then these outliers must be treated accordingly in order to avoid the analysis getting distorted."
   ]
  },
  {
   "cell_type": "markdown",
   "id": "1adbfeb5",
   "metadata": {},
   "source": [
    "### Removing the outliers"
   ]
  },
  {
   "cell_type": "code",
   "execution_count": 141,
   "id": "4a44c50e",
   "metadata": {},
   "outputs": [],
   "source": [
    "\n",
    "# Calculate the Z-score for each data point\n",
    "z_scores = np.abs((df['Rent(INR)'] - df['Rent(INR)'].mean()) / df['Rent(INR)'].std())\n",
    "\n",
    "# Define a threshold for outlier detection\n",
    "threshold = 3\n",
    "\n",
    "# Identify outliers\n",
    "outliers = df[z_scores > threshold]\n",
    "\n",
    "# Remove outliers from the dataset\n",
    "df_cleaned = df[z_scores <= threshold]\n",
    "\n",
    "plt.show()\n"
   ]
  },
  {
   "cell_type": "markdown",
   "id": "c0b0c611",
   "metadata": {},
   "source": [
    "We calculate the Z-score for each data point in the 'Rent' column using the formula (x - mean) / std, where x is the data point, mean is the mean of the 'Rent' column, and std is the standard deviation of the 'Rent' column. We then define a threshold (typically set to 3) to determine which data points are considered outliers. Data points with a Z-score greater than the threshold are identified as outliers, and exclude them."
   ]
  },
  {
   "cell_type": "code",
   "execution_count": 142,
   "id": "45fa38d6",
   "metadata": {},
   "outputs": [
    {
     "data": {
      "image/png": "[encoded data removed]",
      "text/plain": [
       "<Figure size 1440x504 with 1 Axes>"
      ]
     },
     "metadata": {
      "needs_background": "light"
     },
     "output_type": "display_data"
    }
   ],
   "source": [
    "# Comparing Rent (prices) for different cities \n",
    "\n",
    "# Calculate the average rent for each category (City)\n",
    "average_rent_by_city = df_cleaned.groupby('City')['Rent(INR)'].mean()\n",
    "\n",
    "# Comparing Rent (prices) for different cities\n",
    "rent_by_city = sns.barplot(x=df_cleaned['City'], y=df_cleaned['Rent(INR)'])\n",
    "plt.xlabel('City')\n",
    "plt.ylabel('Rent')\n",
    "\n",
    "# Add individual average rent values at the top of the bars\n",
    "for i, bar in enumerate(rent_by_city.patches):\n",
    "    height = bar.get_height()\n",
    "    plt.text(bar.get_x() + bar.get_width() / 2, height, f'{average_rent_by_city[df_cleaned[\"City\"].unique()[i]]:.2f}', ha='center', va='bottom')\n",
    "\n",
    "# Display the plot\n",
    "plt.show()\n"
   ]
  },
  {
   "cell_type": "markdown",
   "id": "ae22f704",
   "metadata": {},
   "source": [
    "The overall results remain the same with Mumbai having the highest average rent, followed by Delhi. But we can observe the change in values after treating (excluding) the outliers. \n",
    "\n",
    "This gives a more accurate representation of the data."
   ]
  },
  {
   "cell_type": "markdown",
   "id": "7f856840",
   "metadata": {},
   "source": [
    "### Conclusion"
   ]
  },
  {
   "cell_type": "markdown",
   "id": "4bd17642",
   "metadata": {},
   "source": [
    "The EDA process can further be continued to discover additional patterns and answer more analytics questions. It is an endless exploration. \n",
    "\n",
    "\n",
    "I would like to conclude this project here as it solves my purpose of demonstrating skills: utilizing Python for data analysis. \n",
    "\n",
    "\n",
    "Potentially, the next steps could involve creating a report containing various dynamic visualizations (using Python or another BI tool like Tableau) to present the results to stakeholders.\n",
    "\n",
    "\n",
    "Or we could indulge in data modelling where we could run prediction algorithms like multiple linear regression on the data to predict the price of a property given the different factors/variables.\n"
   ]
  },
  {
   "cell_type": "code",
   "execution_count": null,
   "id": "bbec1a68",
   "metadata": {},
   "outputs": [],
   "source": []
  },
  {
   "cell_type": "code",
   "execution_count": null,
   "id": "174f459a",
   "metadata": {},
   "outputs": [],
   "source": []
  }
 ],
 "metadata": {
  "kernelspec": {
   "display_name": "Python 3 (ipykernel)",
   "language": "python",
   "name": "python3"
  },
  "language_info": {
   "codemirror_mode": {
    "name": "ipython",
    "version": 3
   },
   "file_extension": ".py",
   "mimetype": "text/x-python",
   "name": "python",
   "nbconvert_exporter": "python",
   "pygments_lexer": "ipython3",
   "version": "3.9.12"
  }
 },
 "nbformat": 4,
 "nbformat_minor": 5
}
